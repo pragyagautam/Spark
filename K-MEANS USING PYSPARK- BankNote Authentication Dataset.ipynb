{
 "cells": [
  {
   "cell_type": "markdown",
   "metadata": {},
   "source": [
    "## K-MEANS"
   ]
  },
  {
   "cell_type": "markdown",
   "metadata": {},
   "source": [
    "### LOAD THE DATASET\n",
    "\n",
    "#### Using the Bank Note Authentication Dataset - http://archive.ics.uci.edu/ml/datasets/banknote+authentication#"
   ]
  },
  {
   "cell_type": "code",
   "execution_count": 1,
   "metadata": {},
   "outputs": [
    {
     "name": "stdout",
     "output_type": "stream",
     "text": [
      "Row(variance=3.6216, skewness=8.6661, curtosis=-2.8073, entropy=-0.44699, class=0)\n",
      "root\n",
      " |-- variance: double (nullable = true)\n",
      " |-- skewness: double (nullable = true)\n",
      " |-- curtosis: double (nullable = true)\n",
      " |-- entropy: double (nullable = true)\n",
      " |-- class: integer (nullable = true)\n",
      "\n",
      "None\n"
     ]
    }
   ],
   "source": [
    "banknoteDataset = spark.read.csv(\"data_banknote_authentication.csv\", sep=',',inferSchema=True)\\\n",
    "        .toDF('variance','skewness','curtosis','entropy','class')\n",
    "print(banknoteDataset.head())\n",
    "print(banknoteDataset.printSchema())"
   ]
  },
  {
   "cell_type": "code",
   "execution_count": 2,
   "metadata": {},
   "outputs": [
    {
     "name": "stdout",
     "output_type": "stream",
     "text": [
      "+--------+--------+--------+--------+-----+\n",
      "|variance|skewness|curtosis| entropy|class|\n",
      "+--------+--------+--------+--------+-----+\n",
      "|  3.6216|  8.6661| -2.8073|-0.44699|    0|\n",
      "|  4.5459|  8.1674| -2.4586| -1.4621|    0|\n",
      "|   3.866| -2.6383|  1.9242| 0.10645|    0|\n",
      "|  3.4566|  9.5228| -4.0112| -3.5944|    0|\n",
      "| 0.32924| -4.4552|  4.5718| -0.9888|    0|\n",
      "+--------+--------+--------+--------+-----+\n",
      "only showing top 5 rows\n",
      "\n"
     ]
    }
   ],
   "source": [
    "banknoteDataset.show(5)"
   ]
  },
  {
   "cell_type": "code",
   "execution_count": 3,
   "metadata": {},
   "outputs": [
    {
     "name": "stdout",
     "output_type": "stream",
     "text": [
      "+-------+------------------+------------------+------------------+------------------+------------------+\n",
      "|summary|          variance|          skewness|          curtosis|           entropy|             class|\n",
      "+-------+------------------+------------------+------------------+------------------+------------------+\n",
      "|  count|              1372|              1372|              1372|              1372|              1372|\n",
      "|   mean|0.4337352570699707|1.9223531206393603|1.3976271172667651|-1.191656520043731|0.4446064139941691|\n",
      "| stddev|2.8427625862785577| 5.869046743695513| 4.310030090106595| 2.101013137359609|0.4971032701256608|\n",
      "|    min|           -7.0421|          -13.7731|           -5.2861|           -8.5482|                 0|\n",
      "|    max|            6.8248|           12.9516|           17.9274|            2.4495|                 1|\n",
      "+-------+------------------+------------------+------------------+------------------+------------------+\n",
      "\n"
     ]
    }
   ],
   "source": [
    "banknoteDataset.describe().show()"
   ]
  },
  {
   "cell_type": "markdown",
   "metadata": {},
   "source": [
    "### TRANSFORM 4 FEATURES INTO 1 FEATURES COLUMN"
   ]
  },
  {
   "cell_type": "code",
   "execution_count": 4,
   "metadata": {},
   "outputs": [],
   "source": [
    "from pyspark.ml.linalg import Vectors\n",
    "from pyspark.ml.feature import VectorAssembler\n",
    "from pyspark.ml.feature import StandardScaler"
   ]
  },
  {
   "cell_type": "code",
   "execution_count": 5,
   "metadata": {},
   "outputs": [],
   "source": [
    "vector_assembler = VectorAssembler(\\\n",
    "inputCols=['variance','skewness','curtosis','entropy'],\\\n",
    "outputCol=\"features\")"
   ]
  },
  {
   "cell_type": "code",
   "execution_count": 6,
   "metadata": {},
   "outputs": [
    {
     "name": "stdout",
     "output_type": "stream",
     "text": [
      "+--------+--------+--------+--------+-----+--------------------+\n",
      "|variance|skewness|curtosis| entropy|class|            features|\n",
      "+--------+--------+--------+--------+-----+--------------------+\n",
      "|  3.6216|  8.6661| -2.8073|-0.44699|    0|[3.6216,8.6661,-2...|\n",
      "|  4.5459|  8.1674| -2.4586| -1.4621|    0|[4.5459,8.1674,-2...|\n",
      "|   3.866| -2.6383|  1.9242| 0.10645|    0|[3.866,-2.6383,1....|\n",
      "+--------+--------+--------+--------+-----+--------------------+\n",
      "only showing top 3 rows\n",
      "\n"
     ]
    }
   ],
   "source": [
    "assembled_data = vector_assembler.transform(banknoteDataset)\n",
    "assembled_data.show(3)"
   ]
  },
  {
   "cell_type": "markdown",
   "metadata": {},
   "source": [
    "### Feature scaling - standardise the data"
   ]
  },
  {
   "cell_type": "code",
   "execution_count": 7,
   "metadata": {},
   "outputs": [],
   "source": [
    "scaler = StandardScaler(inputCol='features', outputCol='scaledFeatures')"
   ]
  },
  {
   "cell_type": "code",
   "execution_count": 8,
   "metadata": {},
   "outputs": [
    {
     "name": "stdout",
     "output_type": "stream",
     "text": [
      "root\n",
      " |-- variance: double (nullable = true)\n",
      " |-- skewness: double (nullable = true)\n",
      " |-- curtosis: double (nullable = true)\n",
      " |-- entropy: double (nullable = true)\n",
      " |-- class: integer (nullable = true)\n",
      " |-- features: vector (nullable = true)\n",
      " |-- scaledFeatures: vector (nullable = true)\n",
      "\n"
     ]
    }
   ],
   "source": [
    "scaler_model = scaler.fit(assembled_data)\n",
    "scaled_data = scaler_model.transform(assembled_data)\n",
    "scaled_data.printSchema()"
   ]
  },
  {
   "cell_type": "code",
   "execution_count": 9,
   "metadata": {},
   "outputs": [
    {
     "name": "stdout",
     "output_type": "stream",
     "text": [
      "+--------------------+\n",
      "|      scaledFeatures|\n",
      "+--------------------+\n",
      "|[1.27397202196227...|\n",
      "|[1.59911348979409...|\n",
      "|[1.35994473075606...|\n",
      "|[1.21592989041164...|\n",
      "|[0.11581691752564...|\n",
      "+--------------------+\n",
      "only showing top 5 rows\n",
      "\n"
     ]
    }
   ],
   "source": [
    "scaled_data.select('scaledFeatures').show(5)"
   ]
  },
  {
   "cell_type": "markdown",
   "metadata": {},
   "source": [
    "### Building the models - K-Means"
   ]
  },
  {
   "cell_type": "code",
   "execution_count": 10,
   "metadata": {},
   "outputs": [],
   "source": [
    "from pyspark.ml.clustering import KMeans"
   ]
  },
  {
   "cell_type": "code",
   "execution_count": 11,
   "metadata": {},
   "outputs": [],
   "source": [
    "k_means_2 = KMeans(featuresCol='scaledFeatures', k=2)\n",
    "k_means_3 = KMeans(featuresCol='scaledFeatures', k=3)"
   ]
  },
  {
   "cell_type": "code",
   "execution_count": 12,
   "metadata": {},
   "outputs": [],
   "source": [
    "model_k2 = k_means_2.fit(scaled_data)\n",
    "model_k3 = k_means_3.fit(scaled_data)"
   ]
  },
  {
   "cell_type": "code",
   "execution_count": 13,
   "metadata": {},
   "outputs": [
    {
     "name": "stdout",
     "output_type": "stream",
     "text": [
      "+----------+-----+\n",
      "|prediction|count|\n",
      "+----------+-----+\n",
      "|         1|  659|\n",
      "|         2|  241|\n",
      "|         0|  472|\n",
      "+----------+-----+\n",
      "\n"
     ]
    }
   ],
   "source": [
    "model_k3_data = model_k3.transform(scaled_data)\n",
    "model_k3_data.groupBy('prediction').count().show()"
   ]
  },
  {
   "cell_type": "code",
   "execution_count": 14,
   "metadata": {},
   "outputs": [
    {
     "name": "stdout",
     "output_type": "stream",
     "text": [
      "+----------+-----+\n",
      "|prediction|count|\n",
      "+----------+-----+\n",
      "|         1|  711|\n",
      "|         0|  661|\n",
      "+----------+-----+\n",
      "\n"
     ]
    }
   ],
   "source": [
    "model_k2_data = model_k2.transform(scaled_data)\n",
    "model_k2_data.groupBy('prediction').count().show()"
   ]
  },
  {
   "cell_type": "code",
   "execution_count": 15,
   "metadata": {},
   "outputs": [
    {
     "name": "stdout",
     "output_type": "stream",
     "text": [
      "+--------+--------+--------+--------+-----+--------------------+--------------------+----------+\n",
      "|variance|skewness|curtosis| entropy|class|            features|      scaledFeatures|prediction|\n",
      "+--------+--------+--------+--------+-----+--------------------+--------------------+----------+\n",
      "|  3.6216|  8.6661| -2.8073|-0.44699|    0|[3.6216,8.6661,-2...|[1.27397202196227...|         0|\n",
      "|  4.5459|  8.1674| -2.4586| -1.4621|    0|[4.5459,8.1674,-2...|[1.59911348979409...|         0|\n",
      "|   3.866| -2.6383|  1.9242| 0.10645|    0|[3.866,-2.6383,1....|[1.35994473075606...|         1|\n",
      "|  3.4566|  9.5228| -4.0112| -3.5944|    0|[3.4566,9.5228,-4...|[1.21592989041164...|         0|\n",
      "| 0.32924| -4.4552|  4.5718| -0.9888|    0|[0.32924,-4.4552,...|[0.11581691752564...|         1|\n",
      "+--------+--------+--------+--------+-----+--------------------+--------------------+----------+\n",
      "only showing top 5 rows\n",
      "\n"
     ]
    }
   ],
   "source": [
    "model_k2_data.show(5)"
   ]
  },
  {
   "cell_type": "code",
   "execution_count": 16,
   "metadata": {},
   "outputs": [
    {
     "name": "stdout",
     "output_type": "stream",
     "text": [
      "Cluster Centers: \n",
      "[ 0.19752416  1.1344166  -0.36542882 -1.2493032 ]\n",
      "[ 0.11078734 -0.4225924   0.96547291  0.06697034]\n"
     ]
    }
   ],
   "source": [
    "# Shows the result.\n",
    "centers = model_k2.clusterCenters()\n",
    "print(\"Cluster Centers: \")\n",
    "for center in centers:\n",
    "    print(center)"
   ]
  }
 ],
 "metadata": {
  "kernelspec": {
   "display_name": "Python 3",
   "language": "python",
   "name": "python3"
  },
  "language_info": {
   "codemirror_mode": {
    "name": "ipython",
    "version": 3
   },
   "file_extension": ".py",
   "mimetype": "text/x-python",
   "name": "python",
   "nbconvert_exporter": "python",
   "pygments_lexer": "ipython3",
   "version": "3.6.6"
  }
 },
 "nbformat": 4,
 "nbformat_minor": 2
}
