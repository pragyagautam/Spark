{
 "cells": [
  {
   "cell_type": "markdown",
   "metadata": {},
   "source": [
    "## FP-Growth "
   ]
  },
  {
   "cell_type": "code",
   "execution_count": 1,
   "metadata": {},
   "outputs": [
    {
     "name": "stdout",
     "output_type": "stream",
     "text": [
      "+---+--------------------+\n",
      "| id|               items|\n",
      "+---+--------------------+\n",
      "|  0|[Apple, Orange, B...|\n",
      "|  1|     [Apple, Orange]|\n",
      "|  2|    [Butter, Banana]|\n",
      "|  3|[Apple, Peach, Or...|\n",
      "|  4|     [Peach, Orange]|\n",
      "|  5|     [Banana, Apple]|\n",
      "|  6|            [Orange]|\n",
      "|  7|     [Apple, Orange]|\n",
      "+---+--------------------+\n",
      "\n"
     ]
    }
   ],
   "source": [
    "from pyspark.ml.fpm import FPGrowth\n",
    "\n",
    "df = spark.createDataFrame([\n",
    "        (0, [\"Apple\", \"Orange\", \"Banana\"]),\n",
    "        (1, [\"Apple\", \"Orange\"]),\n",
    "        (2, [\"Butter\", \"Banana\"]),\n",
    "        (3, [\"Apple\", \"Peach\",\"Orange\",\"Banana\"]),\n",
    "        (4, [\"Peach\",\"Orange\"]),\n",
    "        (5, [\"Banana\",\"Apple\"]),\n",
    "        (6, [\"Orange\"]),\n",
    "        (7, [\"Apple\",\"Orange\"])\n",
    "    ], [\"id\", \"items\"])\n",
    "\n",
    "df.show()"
   ]
  },
  {
   "cell_type": "markdown",
   "metadata": {},
   "source": [
    "### Frequent Itemsets"
   ]
  },
  {
   "cell_type": "code",
   "execution_count": 2,
   "metadata": {},
   "outputs": [
    {
     "name": "stdout",
     "output_type": "stream",
     "text": [
      "+--------------------+----+\n",
      "|               items|freq|\n",
      "+--------------------+----+\n",
      "|            [Banana]|   4|\n",
      "|     [Banana, Apple]|   3|\n",
      "|[Banana, Apple, O...|   2|\n",
      "|    [Banana, Orange]|   2|\n",
      "|            [Orange]|   6|\n",
      "|             [Apple]|   5|\n",
      "|     [Apple, Orange]|   4|\n",
      "|             [Peach]|   2|\n",
      "|     [Peach, Orange]|   2|\n",
      "+--------------------+----+\n",
      "\n"
     ]
    }
   ],
   "source": [
    "fpGrowth = FPGrowth(itemsCol=\"items\", minSupport=0.2, minConfidence=0.6)\n",
    "model = fpGrowth.fit(df)\n",
    "\n",
    "# Display frequent itemsets.\n",
    "model.freqItemsets.show()"
   ]
  },
  {
   "cell_type": "markdown",
   "metadata": {},
   "source": [
    "### Association Rules"
   ]
  },
  {
   "cell_type": "code",
   "execution_count": 3,
   "metadata": {},
   "outputs": [
    {
     "name": "stdout",
     "output_type": "stream",
     "text": [
      "+----------------+----------+------------------+------------------+\n",
      "|      antecedent|consequent|        confidence|              lift|\n",
      "+----------------+----------+------------------+------------------+\n",
      "|        [Orange]|   [Apple]|0.6666666666666666|1.0666666666666667|\n",
      "|         [Apple]|  [Banana]|               0.6|               1.2|\n",
      "|         [Apple]|  [Orange]|               0.8|1.0666666666666667|\n",
      "| [Banana, Apple]|  [Orange]|0.6666666666666666|0.8888888888888888|\n",
      "|         [Peach]|  [Orange]|               1.0|1.3333333333333333|\n",
      "|[Banana, Orange]|   [Apple]|               1.0|               1.6|\n",
      "|        [Banana]|   [Apple]|              0.75|               1.2|\n",
      "+----------------+----------+------------------+------------------+\n",
      "\n"
     ]
    }
   ],
   "source": [
    "# Display generated association rules.\n",
    "model.associationRules.show()"
   ]
  },
  {
   "cell_type": "markdown",
   "metadata": {},
   "source": [
    "### Predictions"
   ]
  },
  {
   "cell_type": "code",
   "execution_count": 4,
   "metadata": {},
   "outputs": [
    {
     "name": "stdout",
     "output_type": "stream",
     "text": [
      "+---+--------------------+----------+\n",
      "| id|               items|prediction|\n",
      "+---+--------------------+----------+\n",
      "|  0|[Apple, Orange, B...|        []|\n",
      "|  1|     [Apple, Orange]|  [Banana]|\n",
      "|  2|    [Butter, Banana]|   [Apple]|\n",
      "|  3|[Apple, Peach, Or...|        []|\n",
      "|  4|     [Peach, Orange]|   [Apple]|\n",
      "|  5|     [Banana, Apple]|  [Orange]|\n",
      "|  6|            [Orange]|   [Apple]|\n",
      "|  7|     [Apple, Orange]|  [Banana]|\n",
      "+---+--------------------+----------+\n",
      "\n"
     ]
    }
   ],
   "source": [
    "# transform examines the input items against all the association rules and summarize the consequents as prediction\n",
    "model.transform(df).show()"
   ]
  },
  {
   "cell_type": "markdown",
   "metadata": {},
   "source": [
    "### PrefixSpan"
   ]
  },
  {
   "cell_type": "code",
   "execution_count": 5,
   "metadata": {},
   "outputs": [
    {
     "data": {
      "text/plain": [
       "[FreqSequence(sequence=[[1]], freq=4),\n",
       " FreqSequence(sequence=[[1], [2]], freq=4),\n",
       " FreqSequence(sequence=[[1], [3]], freq=4),\n",
       " FreqSequence(sequence=[[1], [3], [2]], freq=3),\n",
       " FreqSequence(sequence=[[1], [3], [3]], freq=3),\n",
       " FreqSequence(sequence=[[2]], freq=4),\n",
       " FreqSequence(sequence=[[2], [3]], freq=3),\n",
       " FreqSequence(sequence=[[3]], freq=4),\n",
       " FreqSequence(sequence=[[3], [2]], freq=3),\n",
       " FreqSequence(sequence=[[3], [3]], freq=3),\n",
       " FreqSequence(sequence=[[4]], freq=3),\n",
       " FreqSequence(sequence=[[4], [3]], freq=3),\n",
       " FreqSequence(sequence=[[5]], freq=3),\n",
       " FreqSequence(sequence=[[6]], freq=3)]"
      ]
     },
     "execution_count": 5,
     "metadata": {},
     "output_type": "execute_result"
    }
   ],
   "source": [
    "from  pyspark.mllib.fpm import PrefixSpan\n",
    "data = [\n",
    "   [[1],[1, 2, 3], [1,3],[4],[3, 6]],\n",
    "   [[1,4], [3],[2, 3], [1, 5]],\n",
    "   [[5, 6], [1, 2], [4,6],[3],[2]],\n",
    "   [[5], [7],[1, 6],[3],[2],[3]]\n",
    "   ]\n",
    "rdd = sc.parallelize(data, 3)    \n",
    "#support = 0.7\n",
    "model = PrefixSpan.train(rdd, 0.7,3)     \n",
    "sorted(model.freqSequences().collect())"
   ]
  }
 ],
 "metadata": {
  "kernelspec": {
   "display_name": "Python 3",
   "language": "python",
   "name": "python3"
  },
  "language_info": {
   "codemirror_mode": {
    "name": "ipython",
    "version": 3
   },
   "file_extension": ".py",
   "mimetype": "text/x-python",
   "name": "python",
   "nbconvert_exporter": "python",
   "pygments_lexer": "ipython3",
   "version": "3.6.6"
  }
 },
 "nbformat": 4,
 "nbformat_minor": 2
}
