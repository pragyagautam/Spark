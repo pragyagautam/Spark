{
  "cells": [
    {
      "metadata": {},
      "cell_type": "markdown",
      "source": "# DECISION TREE CLASSIFIER"
    },
    {
      "metadata": {},
      "cell_type": "markdown",
      "source": "### LOAD THE DATASET\n\n#### Using the Bank Note Authentication Dataset - http://archive.ics.uci.edu/ml/datasets/banknote+authentication#"
    },
    {
      "metadata": {
        "trusted": true
      },
      "cell_type": "code",
      "source": "banknoteDataset = spark.read.csv(\"data_banknote_authentication.csv\", sep=',',inferSchema=True)\\\n        .toDF('variance','skewness','curtosis','entropy','class')\nprint(banknoteDataset.head())\nprint(banknoteDataset.printSchema())",
      "execution_count": 1,
      "outputs": [
        {
          "name": "stdout",
          "output_type": "stream",
          "text": "Row(variance=3.6216, skewness=8.6661, curtosis=-2.8073, entropy=-0.44699, class=0)\nroot\n |-- variance: double (nullable = true)\n |-- skewness: double (nullable = true)\n |-- curtosis: double (nullable = true)\n |-- entropy: double (nullable = true)\n |-- class: integer (nullable = true)\n\nNone\n"
        }
      ]
    },
    {
      "metadata": {
        "trusted": true
      },
      "cell_type": "code",
      "source": "banknoteDataset.show(5)",
      "execution_count": 2,
      "outputs": [
        {
          "name": "stdout",
          "output_type": "stream",
          "text": "+--------+--------+--------+--------+-----+\n|variance|skewness|curtosis| entropy|class|\n+--------+--------+--------+--------+-----+\n|  3.6216|  8.6661| -2.8073|-0.44699|    0|\n|  4.5459|  8.1674| -2.4586| -1.4621|    0|\n|   3.866| -2.6383|  1.9242| 0.10645|    0|\n|  3.4566|  9.5228| -4.0112| -3.5944|    0|\n| 0.32924| -4.4552|  4.5718| -0.9888|    0|\n+--------+--------+--------+--------+-----+\nonly showing top 5 rows\n\n"
        }
      ]
    },
    {
      "metadata": {
        "trusted": true
      },
      "cell_type": "code",
      "source": "banknoteDataset.describe().show()",
      "execution_count": 3,
      "outputs": [
        {
          "name": "stdout",
          "output_type": "stream",
          "text": "+-------+------------------+------------------+------------------+------------------+------------------+\n|summary|          variance|          skewness|          curtosis|           entropy|             class|\n+-------+------------------+------------------+------------------+------------------+------------------+\n|  count|              1372|              1372|              1372|              1372|              1372|\n|   mean|0.4337352570699707|1.9223531206393603|1.3976271172667651|-1.191656520043731|0.4446064139941691|\n| stddev|2.8427625862785577| 5.869046743695513| 4.310030090106595| 2.101013137359609|0.4971032701256608|\n|    min|           -7.0421|          -13.7731|           -5.2861|           -8.5482|                 0|\n|    max|            6.8248|           12.9516|           17.9274|            2.4495|                 1|\n+-------+------------------+------------------+------------------+------------------+------------------+\n\n"
        }
      ]
    },
    {
      "metadata": {
        "trusted": true
      },
      "cell_type": "code",
      "source": "from pyspark.ml.linalg import Vectors\nfrom pyspark.ml.feature import VectorAssembler",
      "execution_count": 4,
      "outputs": []
    },
    {
      "metadata": {},
      "cell_type": "markdown",
      "source": "### TRANSFORM 4 FEATURES INTO 1 FEATURES COLUMN"
    },
    {
      "metadata": {
        "trusted": true
      },
      "cell_type": "code",
      "source": "vector_assembler = VectorAssembler(\\\ninputCols=['variance','skewness','curtosis','entropy'],\\\noutputCol=\"features\")",
      "execution_count": 5,
      "outputs": []
    },
    {
      "metadata": {
        "trusted": true
      },
      "cell_type": "code",
      "source": "df_temp = vector_assembler.transform(banknoteDataset)\ndf_temp.show(3)",
      "execution_count": 6,
      "outputs": [
        {
          "name": "stdout",
          "output_type": "stream",
          "text": "+--------+--------+--------+--------+-----+--------------------+\n|variance|skewness|curtosis| entropy|class|            features|\n+--------+--------+--------+--------+-----+--------------------+\n|  3.6216|  8.6661| -2.8073|-0.44699|    0|[3.6216,8.6661,-2...|\n|  4.5459|  8.1674| -2.4586| -1.4621|    0|[4.5459,8.1674,-2...|\n|   3.866| -2.6383|  1.9242| 0.10645|    0|[3.866,-2.6383,1....|\n+--------+--------+--------+--------+-----+--------------------+\nonly showing top 3 rows\n\n"
        }
      ]
    },
    {
      "metadata": {
        "trusted": true
      },
      "cell_type": "code",
      "source": "df = df_temp.drop('variance','skewness','curtosis','entropy')\ndf.show(3)",
      "execution_count": 7,
      "outputs": [
        {
          "name": "stdout",
          "output_type": "stream",
          "text": "+-----+--------------------+\n|class|            features|\n+-----+--------------------+\n|    0|[3.6216,8.6661,-2...|\n|    0|[4.5459,8.1674,-2...|\n|    0|[3.866,-2.6383,1....|\n+-----+--------------------+\nonly showing top 3 rows\n\n"
        }
      ]
    },
    {
      "metadata": {},
      "cell_type": "markdown",
      "source": "### INDEX THE CLASS LABELS INTO NUMERIC INDEXES"
    },
    {
      "metadata": {
        "trusted": true
      },
      "cell_type": "code",
      "source": "from pyspark.ml.feature import StringIndexer\nl_indexer = StringIndexer(inputCol=\"class\", outputCol=\"classIndex\")",
      "execution_count": 8,
      "outputs": []
    },
    {
      "metadata": {
        "trusted": true
      },
      "cell_type": "code",
      "source": "df = l_indexer.fit(df).transform(df)\ndf.show(5)",
      "execution_count": 9,
      "outputs": [
        {
          "name": "stdout",
          "output_type": "stream",
          "text": "+-----+--------------------+----------+\n|class|            features|classIndex|\n+-----+--------------------+----------+\n|    0|[3.6216,8.6661,-2...|       0.0|\n|    0|[4.5459,8.1674,-2...|       0.0|\n|    0|[3.866,-2.6383,1....|       0.0|\n|    0|[3.4566,9.5228,-4...|       0.0|\n|    0|[0.32924,-4.4552,...|       0.0|\n+-----+--------------------+----------+\nonly showing top 5 rows\n\n"
        }
      ]
    },
    {
      "metadata": {},
      "cell_type": "markdown",
      "source": "### SPLIT THE DATA INTO TRAINING AND TEST SETS [ HERE 70% IS TRAINING ]"
    },
    {
      "metadata": {
        "trusted": true
      },
      "cell_type": "code",
      "source": "(trainingData, testData) = banknoteDataset.randomSplit([0.7, 0.3])\nprint(trainingData.count())\nprint(testData.count())\ntestData.show()",
      "execution_count": 10,
      "outputs": [
        {
          "name": "stdout",
          "output_type": "stream",
          "text": "965\n407\n+--------+--------+--------+--------+-----+\n|variance|skewness|curtosis| entropy|class|\n+--------+--------+--------+--------+-----+\n| -7.0421|     9.2| 0.25933| -4.6832|    1|\n| -6.3979|  6.4479|  1.0836| -6.6176|    1|\n| -6.3364|  9.2848|0.014275| -6.7844|    1|\n| -6.1536|  7.9295| 0.61663| -3.2646|    1|\n| -5.8818|  7.6584|  0.5558| -2.9155|    1|\n|  -5.637|  8.1261| 0.13081| -5.0142|    1|\n| -5.4808|  8.1819| 0.27818| -5.0323|    1|\n| -5.3857|  9.1214|-0.41929| -5.9181|    1|\n| -5.3012|  7.3915|0.029699| -7.3987|    1|\n| -5.2049|   7.259|0.070827| -7.3004|    1|\n| -5.1661|  8.0433|0.044265| -4.4983|    1|\n| -4.9462|  3.5716| 0.82742| -1.4957|    1|\n| -4.8861|  7.0542|-0.17252|  -6.959|    1|\n| -4.8392|  6.6755|-0.24278| -6.5775|    1|\n| -4.7462|  3.1205|   1.075| -1.2966|    1|\n| -4.6765| -5.6636|  10.969|-0.33449|    1|\n| -4.5531|-12.5854| 15.4417| -1.4983|    1|\n| -4.4996|  3.4288| 0.56265| -1.1672|    1|\n| -4.4775|-13.0303| 17.0834| -3.0345|    1|\n| -4.4018|-12.9371| 15.6559| -1.6806|    1|\n+--------+--------+--------+--------+-----+\nonly showing top 20 rows\n\n"
        }
      ]
    },
    {
      "metadata": {
        "trusted": true
      },
      "cell_type": "code",
      "source": "from pyspark.ml.classification import DecisionTreeClassifier\nfrom pyspark.ml.evaluation import MulticlassClassificationEvaluator",
      "execution_count": 11,
      "outputs": []
    },
    {
      "metadata": {},
      "cell_type": "markdown",
      "source": "### TRAIN THE DECISION TREE CLASSIFIER MODEL"
    },
    {
      "metadata": {
        "trusted": true
      },
      "cell_type": "code",
      "source": "dt = DecisionTreeClassifier(labelCol=\"classIndex\", featuresCol=\"features\")",
      "execution_count": 12,
      "outputs": []
    },
    {
      "metadata": {
        "trusted": true
      },
      "cell_type": "code",
      "source": "from pyspark.ml import Pipeline",
      "execution_count": 13,
      "outputs": []
    },
    {
      "metadata": {},
      "cell_type": "markdown",
      "source": "### CHAIN INDEXERS AND TREE IN A PIPELINE"
    },
    {
      "metadata": {
        "trusted": true
      },
      "cell_type": "code",
      "source": "pipeline = Pipeline(stages=[vector_assembler,l_indexer, dt])",
      "execution_count": 14,
      "outputs": []
    },
    {
      "metadata": {},
      "cell_type": "markdown",
      "source": "### TRAIN THE MODEL"
    },
    {
      "metadata": {
        "trusted": true
      },
      "cell_type": "code",
      "source": "pipelinemodel = pipeline.fit(trainingData)",
      "execution_count": 15,
      "outputs": []
    },
    {
      "metadata": {},
      "cell_type": "markdown",
      "source": "### MAKE PREDICTIONS"
    },
    {
      "metadata": {
        "trusted": true
      },
      "cell_type": "code",
      "source": "predictions = pipelinemodel.transform(testData)",
      "execution_count": 16,
      "outputs": []
    },
    {
      "metadata": {
        "trusted": true
      },
      "cell_type": "code",
      "source": "predictions.select(\"prediction\", \"classIndex\", \"features\").show(5)",
      "execution_count": 17,
      "outputs": [
        {
          "name": "stdout",
          "output_type": "stream",
          "text": "+----------+----------+--------------------+\n|prediction|classIndex|            features|\n+----------+----------+--------------------+\n|       1.0|       1.0|[-7.0421,9.2,0.25...|\n|       1.0|       1.0|[-6.3979,6.4479,1...|\n|       1.0|       1.0|[-6.3364,9.2848,0...|\n|       1.0|       1.0|[-6.1536,7.9295,0...|\n|       1.0|       1.0|[-5.8818,7.6584,0...|\n+----------+----------+--------------------+\nonly showing top 5 rows\n\n"
        }
      ]
    },
    {
      "metadata": {},
      "cell_type": "markdown",
      "source": "### COMPUTE TEST ERROR"
    },
    {
      "metadata": {
        "trusted": true
      },
      "cell_type": "code",
      "source": "evaluator = MulticlassClassificationEvaluator(labelCol=\"classIndex\", predictionCol=\"prediction\",metricName=\"accuracy\")\naccuracy = evaluator.evaluate(predictions)\nprint(\"Test Error = %g \" % (1.0 - accuracy))",
      "execution_count": 18,
      "outputs": [
        {
          "name": "stdout",
          "output_type": "stream",
          "text": "Test Error = 0.02457 \n"
        }
      ]
    },
    {
      "metadata": {
        "trusted": true
      },
      "cell_type": "code",
      "source": "print(pipelinemodel.stages[2])",
      "execution_count": 19,
      "outputs": [
        {
          "name": "stdout",
          "output_type": "stream",
          "text": "DecisionTreeClassificationModel (uid=DecisionTreeClassifier_435ebafcae3d) of depth 5 with 29 nodes\n"
        }
      ]
    },
    {
      "metadata": {
        "trusted": true
      },
      "cell_type": "code",
      "source": "predictions.groupBy(\"classIndex\",\"prediction\").count().show()",
      "execution_count": 20,
      "outputs": [
        {
          "name": "stdout",
          "output_type": "stream",
          "text": "+----------+----------+-----+\n|classIndex|prediction|count|\n+----------+----------+-----+\n|       1.0|       1.0|  182|\n|       0.0|       1.0|    2|\n|       1.0|       0.0|    8|\n|       0.0|       0.0|  215|\n+----------+----------+-----+\n\n"
        }
      ]
    }
  ],
  "metadata": {
    "kernelspec": {
      "name": "python3",
      "display_name": "Python 3",
      "language": "python"
    },
    "language_info": {
      "mimetype": "text/x-python",
      "nbconvert_exporter": "python",
      "name": "python",
      "pygments_lexer": "ipython3",
      "version": "3.5.4",
      "file_extension": ".py",
      "codemirror_mode": {
        "version": 3,
        "name": "ipython"
      }
    }
  },
  "nbformat": 4,
  "nbformat_minor": 2
}